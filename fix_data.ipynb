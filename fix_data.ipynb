{
 "cells": [
  {
   "cell_type": "markdown",
   "metadata": {},
   "source": [
    "# Preprocesamiento de Datos"
   ]
  },
  {
   "cell_type": "markdown",
   "metadata": {},
   "source": [
    "### Visualizacion de datos"
   ]
  },
  {
   "cell_type": "code",
   "execution_count": 3,
   "metadata": {},
   "outputs": [
    {
     "data": {
      "text/html": [
       "<div>\n",
       "<style scoped>\n",
       "    .dataframe tbody tr th:only-of-type {\n",
       "        vertical-align: middle;\n",
       "    }\n",
       "\n",
       "    .dataframe tbody tr th {\n",
       "        vertical-align: top;\n",
       "    }\n",
       "\n",
       "    .dataframe thead th {\n",
       "        text-align: right;\n",
       "    }\n",
       "</style>\n",
       "<table border=\"1\" class=\"dataframe\">\n",
       "  <thead>\n",
       "    <tr style=\"text-align: right;\">\n",
       "      <th></th>\n",
       "      <th>CODE</th>\n",
       "      <th>PRODUCTO</th>\n",
       "      <th>TIPO_CARROCERIA</th>\n",
       "      <th>COMBUSTIBLE</th>\n",
       "      <th>Potencia_</th>\n",
       "      <th>TRANS</th>\n",
       "      <th>FORMA_PAGO</th>\n",
       "      <th>ESTADO_CIVIL</th>\n",
       "      <th>GENERO</th>\n",
       "      <th>OcupaciOn</th>\n",
       "      <th>PROVINCIA</th>\n",
       "      <th>Campanna1</th>\n",
       "      <th>Campanna2</th>\n",
       "      <th>Campanna3</th>\n",
       "      <th>Zona _Renta</th>\n",
       "      <th>REV_Garantia</th>\n",
       "      <th>Averia_grave</th>\n",
       "      <th>QUEJA_CAC</th>\n",
       "      <th>EDAD_COCHE</th>\n",
       "      <th>COSTE_VENTA</th>\n",
       "      <th>km_anno</th>\n",
       "      <th>Mas_1_coche</th>\n",
       "      <th>Revisiones</th>\n",
       "      <th>Edad Cliente</th>\n",
       "      <th>Tiempo</th>\n",
       "    </tr>\n",
       "  </thead>\n",
       "  <tbody>\n",
       "    <tr>\n",
       "      <th>0</th>\n",
       "      <td>CLI1</td>\n",
       "      <td>A</td>\n",
       "      <td>TIPO1</td>\n",
       "      <td>FUEL 1</td>\n",
       "      <td>Baja</td>\n",
       "      <td>M</td>\n",
       "      <td>Contado</td>\n",
       "      <td>CASADO</td>\n",
       "      <td>M</td>\n",
       "      <td>Empresa</td>\n",
       "      <td>Asturias</td>\n",
       "      <td>SI</td>\n",
       "      <td>NO</td>\n",
       "      <td>NO</td>\n",
       "      <td>Medio-Bajo</td>\n",
       "      <td>NO DATA</td>\n",
       "      <td>Averia muy grave</td>\n",
       "      <td>SI</td>\n",
       "      <td>2.08</td>\n",
       "      <td>2892</td>\n",
       "      <td>0</td>\n",
       "      <td>0</td>\n",
       "      <td>2</td>\n",
       "      <td>18</td>\n",
       "      <td>0</td>\n",
       "    </tr>\n",
       "    <tr>\n",
       "      <th>1</th>\n",
       "      <td>CLI2</td>\n",
       "      <td>A</td>\n",
       "      <td>TIPO1</td>\n",
       "      <td>FUEL 1</td>\n",
       "      <td>Baja</td>\n",
       "      <td>M</td>\n",
       "      <td>Contado</td>\n",
       "      <td>CASADO</td>\n",
       "      <td>F</td>\n",
       "      <td>Empresa</td>\n",
       "      <td>Toledo</td>\n",
       "      <td>NO</td>\n",
       "      <td>NO</td>\n",
       "      <td>NO</td>\n",
       "      <td>Medio-Bajo</td>\n",
       "      <td>SI</td>\n",
       "      <td>No</td>\n",
       "      <td>NO</td>\n",
       "      <td>2.45</td>\n",
       "      <td>1376</td>\n",
       "      <td>7187</td>\n",
       "      <td>0</td>\n",
       "      <td>2</td>\n",
       "      <td>53</td>\n",
       "      <td>0</td>\n",
       "    </tr>\n",
       "    <tr>\n",
       "      <th>2</th>\n",
       "      <td>CLI3</td>\n",
       "      <td>A</td>\n",
       "      <td>TIPO1</td>\n",
       "      <td>FUEL 1</td>\n",
       "      <td>Baja</td>\n",
       "      <td>M</td>\n",
       "      <td>Otros</td>\n",
       "      <td>CASADO</td>\n",
       "      <td>M</td>\n",
       "      <td>Empresa</td>\n",
       "      <td>Lerida</td>\n",
       "      <td>NO</td>\n",
       "      <td>NO</td>\n",
       "      <td>NO</td>\n",
       "      <td>Medio</td>\n",
       "      <td>NO DATA</td>\n",
       "      <td>No</td>\n",
       "      <td>NO</td>\n",
       "      <td>2.51</td>\n",
       "      <td>1376</td>\n",
       "      <td>0</td>\n",
       "      <td>1</td>\n",
       "      <td>4</td>\n",
       "      <td>21</td>\n",
       "      <td>3</td>\n",
       "    </tr>\n",
       "    <tr>\n",
       "      <th>3</th>\n",
       "      <td>CLI4</td>\n",
       "      <td>A</td>\n",
       "      <td>TIPO1</td>\n",
       "      <td>FUEL 1</td>\n",
       "      <td>Baja</td>\n",
       "      <td>M</td>\n",
       "      <td>Financiera Marca</td>\n",
       "      <td>CASADO</td>\n",
       "      <td>F</td>\n",
       "      <td>Empresa</td>\n",
       "      <td>Madrid</td>\n",
       "      <td>SI</td>\n",
       "      <td>NO</td>\n",
       "      <td>NO</td>\n",
       "      <td>Medio</td>\n",
       "      <td>SI</td>\n",
       "      <td>Averia muy grave</td>\n",
       "      <td>SI</td>\n",
       "      <td>2.43</td>\n",
       "      <td>2015</td>\n",
       "      <td>7256</td>\n",
       "      <td>1</td>\n",
       "      <td>4</td>\n",
       "      <td>48</td>\n",
       "      <td>5</td>\n",
       "    </tr>\n",
       "    <tr>\n",
       "      <th>4</th>\n",
       "      <td>CLI5</td>\n",
       "      <td>A</td>\n",
       "      <td>TIPO1</td>\n",
       "      <td>FUEL 1</td>\n",
       "      <td>Baja</td>\n",
       "      <td>M</td>\n",
       "      <td>Financiera Marca</td>\n",
       "      <td>CASADO</td>\n",
       "      <td>F</td>\n",
       "      <td>Funcionario</td>\n",
       "      <td>Santa Cruz de Tenerife</td>\n",
       "      <td>SI</td>\n",
       "      <td>NO</td>\n",
       "      <td>SI</td>\n",
       "      <td>Alto</td>\n",
       "      <td>NO DATA</td>\n",
       "      <td>No</td>\n",
       "      <td>NO</td>\n",
       "      <td>2.30</td>\n",
       "      <td>1818</td>\n",
       "      <td>0</td>\n",
       "      <td>1</td>\n",
       "      <td>3</td>\n",
       "      <td>21</td>\n",
       "      <td>3</td>\n",
       "    </tr>\n",
       "  </tbody>\n",
       "</table>\n",
       "</div>"
      ],
      "text/plain": [
       "   CODE PRODUCTO TIPO_CARROCERIA COMBUSTIBLE Potencia_ TRANS  \\\n",
       "0  CLI1        A           TIPO1      FUEL 1      Baja     M   \n",
       "1  CLI2        A           TIPO1      FUEL 1      Baja     M   \n",
       "2  CLI3        A           TIPO1      FUEL 1      Baja     M   \n",
       "3  CLI4        A           TIPO1      FUEL 1      Baja     M   \n",
       "4  CLI5        A           TIPO1      FUEL 1      Baja     M   \n",
       "\n",
       "         FORMA_PAGO ESTADO_CIVIL GENERO    OcupaciOn               PROVINCIA  \\\n",
       "0           Contado       CASADO      M      Empresa                Asturias   \n",
       "1           Contado       CASADO      F      Empresa                  Toledo   \n",
       "2             Otros       CASADO      M      Empresa                  Lerida   \n",
       "3  Financiera Marca       CASADO      F      Empresa                  Madrid   \n",
       "4  Financiera Marca       CASADO      F  Funcionario  Santa Cruz de Tenerife   \n",
       "\n",
       "  Campanna1 Campanna2 Campanna3 Zona _Renta REV_Garantia      Averia_grave  \\\n",
       "0        SI        NO        NO  Medio-Bajo      NO DATA  Averia muy grave   \n",
       "1        NO        NO        NO  Medio-Bajo           SI                No   \n",
       "2        NO        NO        NO       Medio      NO DATA                No   \n",
       "3        SI        NO        NO       Medio           SI  Averia muy grave   \n",
       "4        SI        NO        SI        Alto      NO DATA                No   \n",
       "\n",
       "  QUEJA_CAC  EDAD_COCHE  COSTE_VENTA  km_anno  Mas_1_coche  Revisiones  \\\n",
       "0        SI        2.08         2892        0            0           2   \n",
       "1        NO        2.45         1376     7187            0           2   \n",
       "2        NO        2.51         1376        0            1           4   \n",
       "3        SI        2.43         2015     7256            1           4   \n",
       "4        NO        2.30         1818        0            1           3   \n",
       "\n",
       "   Edad Cliente  Tiempo  \n",
       "0            18       0  \n",
       "1            53       0  \n",
       "2            21       3  \n",
       "3            48       5  \n",
       "4            21       3  "
      ]
     },
     "execution_count": 3,
     "metadata": {},
     "output_type": "execute_result"
    }
   ],
   "source": [
    "import pandas as pd\n",
    "\n",
    "pd.set_option('display.max_columns', None)\n",
    "\n",
    "#Lectura de la base de datos\n",
    "df = pd.read_csv('DB/cars.csv', sep=';') # Cambio en el separador\n",
    "df.head()"
   ]
  },
  {
   "cell_type": "markdown",
   "metadata": {},
   "source": [
    "### Valores nulos"
   ]
  },
  {
   "cell_type": "markdown",
   "metadata": {},
   "source": [
    "Vamos a realizar un analisis de los valores nulos (NaN).\n",
    "\n",
    "Para ello comenzamos leyendo los datos y viendo cuantos datos faltantes hay por columna:"
   ]
  },
  {
   "cell_type": "code",
   "execution_count": 4,
   "metadata": {},
   "outputs": [
    {
     "data": {
      "text/html": [
       "<div>\n",
       "<style scoped>\n",
       "    .dataframe tbody tr th:only-of-type {\n",
       "        vertical-align: middle;\n",
       "    }\n",
       "\n",
       "    .dataframe tbody tr th {\n",
       "        vertical-align: top;\n",
       "    }\n",
       "\n",
       "    .dataframe thead th {\n",
       "        text-align: right;\n",
       "    }\n",
       "</style>\n",
       "<table border=\"1\" class=\"dataframe\">\n",
       "  <thead>\n",
       "    <tr style=\"text-align: right;\">\n",
       "      <th></th>\n",
       "      <th>Nulos</th>\n",
       "    </tr>\n",
       "  </thead>\n",
       "  <tbody>\n",
       "    <tr>\n",
       "      <th>CODE</th>\n",
       "      <td>0</td>\n",
       "    </tr>\n",
       "    <tr>\n",
       "      <th>PRODUCTO</th>\n",
       "      <td>0</td>\n",
       "    </tr>\n",
       "    <tr>\n",
       "      <th>TIPO_CARROCERIA</th>\n",
       "      <td>0</td>\n",
       "    </tr>\n",
       "    <tr>\n",
       "      <th>COMBUSTIBLE</th>\n",
       "      <td>0</td>\n",
       "    </tr>\n",
       "    <tr>\n",
       "      <th>Potencia_</th>\n",
       "      <td>0</td>\n",
       "    </tr>\n",
       "    <tr>\n",
       "      <th>TRANS</th>\n",
       "      <td>0</td>\n",
       "    </tr>\n",
       "    <tr>\n",
       "      <th>FORMA_PAGO</th>\n",
       "      <td>0</td>\n",
       "    </tr>\n",
       "    <tr>\n",
       "      <th>ESTADO_CIVIL</th>\n",
       "      <td>890</td>\n",
       "    </tr>\n",
       "    <tr>\n",
       "      <th>GENERO</th>\n",
       "      <td>860</td>\n",
       "    </tr>\n",
       "    <tr>\n",
       "      <th>OcupaciOn</th>\n",
       "      <td>0</td>\n",
       "    </tr>\n",
       "    <tr>\n",
       "      <th>PROVINCIA</th>\n",
       "      <td>0</td>\n",
       "    </tr>\n",
       "    <tr>\n",
       "      <th>Campanna1</th>\n",
       "      <td>0</td>\n",
       "    </tr>\n",
       "    <tr>\n",
       "      <th>Campanna2</th>\n",
       "      <td>0</td>\n",
       "    </tr>\n",
       "    <tr>\n",
       "      <th>Campanna3</th>\n",
       "      <td>0</td>\n",
       "    </tr>\n",
       "    <tr>\n",
       "      <th>Zona _Renta</th>\n",
       "      <td>13178</td>\n",
       "    </tr>\n",
       "    <tr>\n",
       "      <th>REV_Garantia</th>\n",
       "      <td>0</td>\n",
       "    </tr>\n",
       "    <tr>\n",
       "      <th>Averia_grave</th>\n",
       "      <td>1</td>\n",
       "    </tr>\n",
       "    <tr>\n",
       "      <th>QUEJA_CAC</th>\n",
       "      <td>0</td>\n",
       "    </tr>\n",
       "    <tr>\n",
       "      <th>EDAD_COCHE</th>\n",
       "      <td>0</td>\n",
       "    </tr>\n",
       "    <tr>\n",
       "      <th>COSTE_VENTA</th>\n",
       "      <td>0</td>\n",
       "    </tr>\n",
       "    <tr>\n",
       "      <th>km_anno</th>\n",
       "      <td>0</td>\n",
       "    </tr>\n",
       "    <tr>\n",
       "      <th>Mas_1_coche</th>\n",
       "      <td>0</td>\n",
       "    </tr>\n",
       "    <tr>\n",
       "      <th>Revisiones</th>\n",
       "      <td>0</td>\n",
       "    </tr>\n",
       "    <tr>\n",
       "      <th>Edad Cliente</th>\n",
       "      <td>0</td>\n",
       "    </tr>\n",
       "    <tr>\n",
       "      <th>Tiempo</th>\n",
       "      <td>0</td>\n",
       "    </tr>\n",
       "  </tbody>\n",
       "</table>\n",
       "</div>"
      ],
      "text/plain": [
       "                 Nulos\n",
       "CODE                 0\n",
       "PRODUCTO             0\n",
       "TIPO_CARROCERIA      0\n",
       "COMBUSTIBLE          0\n",
       "Potencia_            0\n",
       "TRANS                0\n",
       "FORMA_PAGO           0\n",
       "ESTADO_CIVIL       890\n",
       "GENERO             860\n",
       "OcupaciOn            0\n",
       "PROVINCIA            0\n",
       "Campanna1            0\n",
       "Campanna2            0\n",
       "Campanna3            0\n",
       "Zona _Renta      13178\n",
       "REV_Garantia         0\n",
       "Averia_grave         1\n",
       "QUEJA_CAC            0\n",
       "EDAD_COCHE           0\n",
       "COSTE_VENTA          0\n",
       "km_anno              0\n",
       "Mas_1_coche          0\n",
       "Revisiones           0\n",
       "Edad Cliente         0\n",
       "Tiempo               0"
      ]
     },
     "execution_count": 4,
     "metadata": {},
     "output_type": "execute_result"
    }
   ],
   "source": [
    "#Valores nulos\n",
    "df_nulls = pd.DataFrame(df.isnull().sum(), index=df.columns, columns=['Nulos'])\n",
    "df_nulls"
   ]
  },
  {
   "cell_type": "markdown",
   "metadata": {},
   "source": [
    "Vemos que tenemos datos nulos en 4 columnas, vamos a mostrar el contenido de dichas columnas en un dataframe por separado para una mayor visualizacion"
   ]
  },
  {
   "cell_type": "code",
   "execution_count": 5,
   "metadata": {},
   "outputs": [
    {
     "data": {
      "text/html": [
       "<div>\n",
       "<style scoped>\n",
       "    .dataframe tbody tr th:only-of-type {\n",
       "        vertical-align: middle;\n",
       "    }\n",
       "\n",
       "    .dataframe tbody tr th {\n",
       "        vertical-align: top;\n",
       "    }\n",
       "\n",
       "    .dataframe thead th {\n",
       "        text-align: right;\n",
       "    }\n",
       "</style>\n",
       "<table border=\"1\" class=\"dataframe\">\n",
       "  <thead>\n",
       "    <tr style=\"text-align: right;\">\n",
       "      <th></th>\n",
       "      <th>Averia_grave</th>\n",
       "      <th>ESTADO_CIVIL</th>\n",
       "      <th>GENERO</th>\n",
       "      <th>Zona _Renta</th>\n",
       "    </tr>\n",
       "  </thead>\n",
       "  <tbody>\n",
       "    <tr>\n",
       "      <th>0</th>\n",
       "      <td>Averia muy grave</td>\n",
       "      <td>CASADO</td>\n",
       "      <td>M</td>\n",
       "      <td>Medio-Bajo</td>\n",
       "    </tr>\n",
       "    <tr>\n",
       "      <th>1</th>\n",
       "      <td>No</td>\n",
       "      <td>CASADO</td>\n",
       "      <td>F</td>\n",
       "      <td>Medio-Bajo</td>\n",
       "    </tr>\n",
       "    <tr>\n",
       "      <th>2</th>\n",
       "      <td>No</td>\n",
       "      <td>CASADO</td>\n",
       "      <td>M</td>\n",
       "      <td>Medio</td>\n",
       "    </tr>\n",
       "    <tr>\n",
       "      <th>3</th>\n",
       "      <td>Averia muy grave</td>\n",
       "      <td>CASADO</td>\n",
       "      <td>F</td>\n",
       "      <td>Medio</td>\n",
       "    </tr>\n",
       "    <tr>\n",
       "      <th>4</th>\n",
       "      <td>No</td>\n",
       "      <td>CASADO</td>\n",
       "      <td>F</td>\n",
       "      <td>Alto</td>\n",
       "    </tr>\n",
       "    <tr>\n",
       "      <th>...</th>\n",
       "      <td>...</td>\n",
       "      <td>...</td>\n",
       "      <td>...</td>\n",
       "      <td>...</td>\n",
       "    </tr>\n",
       "    <tr>\n",
       "      <th>58044</th>\n",
       "      <td>Averia muy grave</td>\n",
       "      <td>SOLTERO</td>\n",
       "      <td>F</td>\n",
       "      <td>NaN</td>\n",
       "    </tr>\n",
       "    <tr>\n",
       "      <th>58045</th>\n",
       "      <td>No</td>\n",
       "      <td>NaN</td>\n",
       "      <td>NaN</td>\n",
       "      <td>Medio-Bajo</td>\n",
       "    </tr>\n",
       "    <tr>\n",
       "      <th>58046</th>\n",
       "      <td>No</td>\n",
       "      <td>CASADO</td>\n",
       "      <td>M</td>\n",
       "      <td>Medio</td>\n",
       "    </tr>\n",
       "    <tr>\n",
       "      <th>58047</th>\n",
       "      <td>No</td>\n",
       "      <td>CASADO</td>\n",
       "      <td>M</td>\n",
       "      <td>Medio-Bajo</td>\n",
       "    </tr>\n",
       "    <tr>\n",
       "      <th>58048</th>\n",
       "      <td>Averia muy grave</td>\n",
       "      <td>OTROS</td>\n",
       "      <td>M</td>\n",
       "      <td>NaN</td>\n",
       "    </tr>\n",
       "  </tbody>\n",
       "</table>\n",
       "<p>58049 rows × 4 columns</p>\n",
       "</div>"
      ],
      "text/plain": [
       "           Averia_grave ESTADO_CIVIL GENERO Zona _Renta\n",
       "0      Averia muy grave       CASADO      M  Medio-Bajo\n",
       "1                    No       CASADO      F  Medio-Bajo\n",
       "2                    No       CASADO      M       Medio\n",
       "3      Averia muy grave       CASADO      F       Medio\n",
       "4                    No       CASADO      F        Alto\n",
       "...                 ...          ...    ...         ...\n",
       "58044  Averia muy grave      SOLTERO      F         NaN\n",
       "58045                No          NaN    NaN  Medio-Bajo\n",
       "58046                No       CASADO      M       Medio\n",
       "58047                No       CASADO      M  Medio-Bajo\n",
       "58048  Averia muy grave        OTROS      M         NaN\n",
       "\n",
       "[58049 rows x 4 columns]"
      ]
     },
     "execution_count": 5,
     "metadata": {},
     "output_type": "execute_result"
    }
   ],
   "source": [
    "null_df = df[['Averia_grave', 'ESTADO_CIVIL', 'GENERO', 'Zona _Renta']]\n",
    "null_df"
   ]
  },
  {
   "cell_type": "markdown",
   "metadata": {},
   "source": [
    "Vemos los valores faltantes. \n",
    "\n",
    "En este caso, vamos a sustituirlos por 'Desconocido' (ya que estas columnas no son de tipo numerico), salvo en el caso de la columna 'Averia_grave', que al contener un unico valor faltante, vamos a dropear el registro en el que se encuentre dicho valor: "
   ]
  },
  {
   "cell_type": "code",
   "execution_count": 6,
   "metadata": {},
   "outputs": [
    {
     "data": {
      "text/html": [
       "<div>\n",
       "<style scoped>\n",
       "    .dataframe tbody tr th:only-of-type {\n",
       "        vertical-align: middle;\n",
       "    }\n",
       "\n",
       "    .dataframe tbody tr th {\n",
       "        vertical-align: top;\n",
       "    }\n",
       "\n",
       "    .dataframe thead th {\n",
       "        text-align: right;\n",
       "    }\n",
       "</style>\n",
       "<table border=\"1\" class=\"dataframe\">\n",
       "  <thead>\n",
       "    <tr style=\"text-align: right;\">\n",
       "      <th></th>\n",
       "      <th>Nulos</th>\n",
       "    </tr>\n",
       "  </thead>\n",
       "  <tbody>\n",
       "    <tr>\n",
       "      <th>ESTADO_CIVIL</th>\n",
       "      <td>0</td>\n",
       "    </tr>\n",
       "    <tr>\n",
       "      <th>GENERO</th>\n",
       "      <td>0</td>\n",
       "    </tr>\n",
       "    <tr>\n",
       "      <th>Zona _Renta</th>\n",
       "      <td>0</td>\n",
       "    </tr>\n",
       "    <tr>\n",
       "      <th>Averia_grave</th>\n",
       "      <td>0</td>\n",
       "    </tr>\n",
       "  </tbody>\n",
       "</table>\n",
       "</div>"
      ],
      "text/plain": [
       "              Nulos\n",
       "ESTADO_CIVIL      0\n",
       "GENERO            0\n",
       "Zona _Renta       0\n",
       "Averia_grave      0"
      ]
     },
     "execution_count": 6,
     "metadata": {},
     "output_type": "execute_result"
    }
   ],
   "source": [
    "null_cols = []\n",
    "# Sustituimos valores nulos\n",
    "for column, count in df_nulls['Nulos'].items():\n",
    "    if count != 0:\n",
    "        null_cols.append(column)\n",
    "        if column == 'Averia_grave':\n",
    "            df.dropna(subset=[column], inplace=True)\n",
    "        elif column == 'ESTADO_CIVIL':\n",
    "            df[column] = df[column].fillna('DESCONOCIDO')\n",
    "        elif column == 'GENERO':\n",
    "            df[column] = df[column].fillna('O')\n",
    "        elif column == 'Zona _Renta':\n",
    "            df[column] = df[column].fillna('Desconocido')   \n",
    "\n",
    "# Una vez que se han eliminado los valores nulos, verificamos que hemos hecho la transoformacion correctamente\n",
    "df_nulls = pd.DataFrame(df.isnull().sum(), index=df.columns, columns=['Nulos'])\n",
    "df_nulls.loc[null_cols]"
   ]
  },
  {
   "cell_type": "markdown",
   "metadata": {},
   "source": [
    "Vemos que hemos solucionado el problema de los valores nulos perfectamente."
   ]
  },
  {
   "cell_type": "markdown",
   "metadata": {},
   "source": [
    "### Heatmap y boxplots"
   ]
  },
  {
   "cell_type": "code",
   "execution_count": 7,
   "metadata": {},
   "outputs": [
    {
     "name": "stderr",
     "output_type": "stream",
     "text": [
      "/Users/pela/opt/anaconda3/lib/python3.9/site-packages/scipy/__init__.py:146: UserWarning: A NumPy version >=1.16.5 and <1.23.0 is required for this version of SciPy (detected version 1.26.4\n",
      "  warnings.warn(f\"A NumPy version >={np_minversion} and <{np_maxversion}\"\n"
     ]
    }
   ],
   "source": [
    "import matplotlib.pyplot as plt\n",
    "import seaborn as sns"
   ]
  },
  {
   "cell_type": "markdown",
   "metadata": {},
   "source": [
    "Para ver la relación entre las variables utilizaremos el heatmap, que nos ofrece una imagen de calor muy visual para detectar casos de multicolinearidad."
   ]
  },
  {
   "cell_type": "code",
   "execution_count": 8,
   "metadata": {},
   "outputs": [
    {
     "data": {
      "image/png": "[encoded data removed]",
      "text/plain": [
       "<Figure size 864x432 with 2 Axes>"
      ]
     },
     "metadata": {
      "needs_background": "light"
     },
     "output_type": "display_data"
    }
   ],
   "source": [
    "num_col = df.select_dtypes(include = ['float64', 'int64']).columns\n",
    "corr = df[num_col].corr()\n",
    "plt.figure(figsize=(12, 6))\n",
    "sns.heatmap(corr, annot=True, cmap='coolwarm')\n",
    "plt.title('Heatmap de correlacion')\n",
    "plt.show()"
   ]
  },
  {
   "cell_type": "markdown",
   "metadata": {},
   "source": [
    "Como vemos hay variables muy relacionadas entre sí. Esto no va a favorecer a nuestro modelo, por lo que las vamos a eliminar:"
   ]
  },
  {
   "cell_type": "code",
   "execution_count": 9,
   "metadata": {},
   "outputs": [],
   "source": [
    "df.drop(['Tiempo', 'Revisiones'], axis=1, inplace=True)"
   ]
  },
  {
   "cell_type": "code",
   "execution_count": 10,
   "metadata": {},
   "outputs": [
    {
     "data": {
      "image/png": "[encoded data removed]",
      "text/plain": [
       "<Figure size 864x432 with 2 Axes>"
      ]
     },
     "metadata": {
      "needs_background": "light"
     },
     "output_type": "display_data"
    }
   ],
   "source": [
    "num_col = df.select_dtypes(include = ['float64', 'int64']).columns\n",
    "corr = df[num_col].corr()\n",
    "plt.figure(figsize=(12, 6))\n",
    "sns.heatmap(corr, annot=True, cmap='coolwarm')\n",
    "plt.title('Heatmap de correlacion')\n",
    "plt.show()"
   ]
  },
  {
   "cell_type": "markdown",
   "metadata": {},
   "source": [
    "Ahora ya vemos que no hay ninguna variable muy relacionada entre sí."
   ]
  },
  {
   "cell_type": "code",
   "execution_count": 11,
   "metadata": {},
   "outputs": [
    {
     "data": {
      "image/png": "[encoded data removed]",
      "text/plain": [
       "<Figure size 864x864 with 5 Axes>"
      ]
     },
     "metadata": {
      "needs_background": "light"
     },
     "output_type": "display_data"
    }
   ],
   "source": [
    "def show_boxplots(df):\n",
    "    # Seleccionamos las columnas numericas\n",
    "    num_col = df.select_dtypes(include=['float64', 'int64']).columns\n",
    "\n",
    "    # Definimos el número de columnas para mostrar por fila\n",
    "    n_cols = 2\n",
    "    n_rows = len(num_col) // n_cols + (len(num_col) % n_cols > 0)\n",
    "\n",
    "    fig, axes = plt.subplots(n_rows, n_cols, figsize=(12, 4 * n_rows))\n",
    "    axes = axes.flatten()  # Aplanar la matriz de ejes\n",
    "\n",
    "    # Creamos los diagramas de caja (boxplots)\n",
    "    for i, col in enumerate(num_col):\n",
    "        sns.boxplot(x=df[col], ax=axes[i])\n",
    "        axes[i].set_title(f'Boxplot de {col}')\n",
    "\n",
    "    # Eliminamos los subplots vacios, por estetica\n",
    "    for j in range(i+1, len(axes)):\n",
    "        fig.delaxes(axes[j])\n",
    "\n",
    "    # Mostrar la figura con los subplots\n",
    "    plt.tight_layout()\n",
    "    plt.show()\n",
    "\n",
    "show_boxplots(df)\n"
   ]
  },
  {
   "cell_type": "markdown",
   "metadata": {},
   "source": [
    "### Codificacion de Variables Categoricas"
   ]
  },
  {
   "cell_type": "markdown",
   "metadata": {},
   "source": [
    "Para manejar las variables categoricas, vamos a aplicar el Label Encoder de sklearn para pasar de tipo objecto a numerico, permitiendo asi poder utilizar el mayor numero de datos posible en nuestro modelo de prediccion.\n",
    "\n",
    "Lo hacemos de la siguiente manera:"
   ]
  },
  {
   "cell_type": "code",
   "execution_count": 12,
   "metadata": {},
   "outputs": [
    {
     "data": {
      "text/html": [
       "<div>\n",
       "<style scoped>\n",
       "    .dataframe tbody tr th:only-of-type {\n",
       "        vertical-align: middle;\n",
       "    }\n",
       "\n",
       "    .dataframe tbody tr th {\n",
       "        vertical-align: top;\n",
       "    }\n",
       "\n",
       "    .dataframe thead th {\n",
       "        text-align: right;\n",
       "    }\n",
       "</style>\n",
       "<table border=\"1\" class=\"dataframe\">\n",
       "  <thead>\n",
       "    <tr style=\"text-align: right;\">\n",
       "      <th></th>\n",
       "      <th>CODE</th>\n",
       "      <th>PRODUCTO</th>\n",
       "      <th>TIPO_CARROCERIA</th>\n",
       "      <th>COMBUSTIBLE</th>\n",
       "      <th>Potencia_</th>\n",
       "      <th>TRANS</th>\n",
       "      <th>FORMA_PAGO</th>\n",
       "      <th>ESTADO_CIVIL</th>\n",
       "      <th>GENERO</th>\n",
       "      <th>OcupaciOn</th>\n",
       "      <th>PROVINCIA</th>\n",
       "      <th>Campanna1</th>\n",
       "      <th>Campanna2</th>\n",
       "      <th>Campanna3</th>\n",
       "      <th>Zona _Renta</th>\n",
       "      <th>REV_Garantia</th>\n",
       "      <th>Averia_grave</th>\n",
       "      <th>QUEJA_CAC</th>\n",
       "      <th>EDAD_COCHE</th>\n",
       "      <th>COSTE_VENTA</th>\n",
       "      <th>km_anno</th>\n",
       "      <th>Mas_1_coche</th>\n",
       "      <th>Edad Cliente</th>\n",
       "    </tr>\n",
       "  </thead>\n",
       "  <tbody>\n",
       "    <tr>\n",
       "      <th>0</th>\n",
       "      <td>0</td>\n",
       "      <td>0</td>\n",
       "      <td>0</td>\n",
       "      <td>0</td>\n",
       "      <td>1</td>\n",
       "      <td>1</td>\n",
       "      <td>0</td>\n",
       "      <td>0</td>\n",
       "      <td>1</td>\n",
       "      <td>1</td>\n",
       "      <td>4</td>\n",
       "      <td>1</td>\n",
       "      <td>0</td>\n",
       "      <td>0</td>\n",
       "      <td>3</td>\n",
       "      <td>0</td>\n",
       "      <td>2</td>\n",
       "      <td>1</td>\n",
       "      <td>2.08</td>\n",
       "      <td>2892</td>\n",
       "      <td>0</td>\n",
       "      <td>0</td>\n",
       "      <td>18</td>\n",
       "    </tr>\n",
       "    <tr>\n",
       "      <th>1</th>\n",
       "      <td>11111</td>\n",
       "      <td>0</td>\n",
       "      <td>0</td>\n",
       "      <td>0</td>\n",
       "      <td>1</td>\n",
       "      <td>1</td>\n",
       "      <td>0</td>\n",
       "      <td>0</td>\n",
       "      <td>0</td>\n",
       "      <td>1</td>\n",
       "      <td>47</td>\n",
       "      <td>0</td>\n",
       "      <td>0</td>\n",
       "      <td>0</td>\n",
       "      <td>3</td>\n",
       "      <td>1</td>\n",
       "      <td>3</td>\n",
       "      <td>0</td>\n",
       "      <td>2.45</td>\n",
       "      <td>1376</td>\n",
       "      <td>7187</td>\n",
       "      <td>0</td>\n",
       "      <td>53</td>\n",
       "    </tr>\n",
       "    <tr>\n",
       "      <th>2</th>\n",
       "      <td>22222</td>\n",
       "      <td>0</td>\n",
       "      <td>0</td>\n",
       "      <td>0</td>\n",
       "      <td>1</td>\n",
       "      <td>1</td>\n",
       "      <td>3</td>\n",
       "      <td>0</td>\n",
       "      <td>1</td>\n",
       "      <td>1</td>\n",
       "      <td>30</td>\n",
       "      <td>0</td>\n",
       "      <td>0</td>\n",
       "      <td>0</td>\n",
       "      <td>2</td>\n",
       "      <td>0</td>\n",
       "      <td>3</td>\n",
       "      <td>0</td>\n",
       "      <td>2.51</td>\n",
       "      <td>1376</td>\n",
       "      <td>0</td>\n",
       "      <td>1</td>\n",
       "      <td>21</td>\n",
       "    </tr>\n",
       "    <tr>\n",
       "      <th>3</th>\n",
       "      <td>33333</td>\n",
       "      <td>0</td>\n",
       "      <td>0</td>\n",
       "      <td>0</td>\n",
       "      <td>1</td>\n",
       "      <td>1</td>\n",
       "      <td>2</td>\n",
       "      <td>0</td>\n",
       "      <td>0</td>\n",
       "      <td>1</td>\n",
       "      <td>32</td>\n",
       "      <td>1</td>\n",
       "      <td>0</td>\n",
       "      <td>0</td>\n",
       "      <td>2</td>\n",
       "      <td>1</td>\n",
       "      <td>2</td>\n",
       "      <td>1</td>\n",
       "      <td>2.43</td>\n",
       "      <td>2015</td>\n",
       "      <td>7256</td>\n",
       "      <td>1</td>\n",
       "      <td>48</td>\n",
       "    </tr>\n",
       "    <tr>\n",
       "      <th>4</th>\n",
       "      <td>44444</td>\n",
       "      <td>0</td>\n",
       "      <td>0</td>\n",
       "      <td>0</td>\n",
       "      <td>1</td>\n",
       "      <td>1</td>\n",
       "      <td>2</td>\n",
       "      <td>0</td>\n",
       "      <td>0</td>\n",
       "      <td>2</td>\n",
       "      <td>41</td>\n",
       "      <td>1</td>\n",
       "      <td>0</td>\n",
       "      <td>1</td>\n",
       "      <td>0</td>\n",
       "      <td>0</td>\n",
       "      <td>3</td>\n",
       "      <td>0</td>\n",
       "      <td>2.30</td>\n",
       "      <td>1818</td>\n",
       "      <td>0</td>\n",
       "      <td>1</td>\n",
       "      <td>21</td>\n",
       "    </tr>\n",
       "  </tbody>\n",
       "</table>\n",
       "</div>"
      ],
      "text/plain": [
       "    CODE  PRODUCTO  TIPO_CARROCERIA  COMBUSTIBLE  Potencia_  TRANS  \\\n",
       "0      0         0                0            0          1      1   \n",
       "1  11111         0                0            0          1      1   \n",
       "2  22222         0                0            0          1      1   \n",
       "3  33333         0                0            0          1      1   \n",
       "4  44444         0                0            0          1      1   \n",
       "\n",
       "   FORMA_PAGO  ESTADO_CIVIL  GENERO  OcupaciOn  PROVINCIA  Campanna1  \\\n",
       "0           0             0       1          1          4          1   \n",
       "1           0             0       0          1         47          0   \n",
       "2           3             0       1          1         30          0   \n",
       "3           2             0       0          1         32          1   \n",
       "4           2             0       0          2         41          1   \n",
       "\n",
       "   Campanna2  Campanna3  Zona _Renta  REV_Garantia  Averia_grave  QUEJA_CAC  \\\n",
       "0          0          0            3             0             2          1   \n",
       "1          0          0            3             1             3          0   \n",
       "2          0          0            2             0             3          0   \n",
       "3          0          0            2             1             2          1   \n",
       "4          0          1            0             0             3          0   \n",
       "\n",
       "   EDAD_COCHE  COSTE_VENTA  km_anno  Mas_1_coche  Edad Cliente  \n",
       "0        2.08         2892        0            0            18  \n",
       "1        2.45         1376     7187            0            53  \n",
       "2        2.51         1376        0            1            21  \n",
       "3        2.43         2015     7256            1            48  \n",
       "4        2.30         1818        0            1            21  "
      ]
     },
     "execution_count": 12,
     "metadata": {},
     "output_type": "execute_result"
    }
   ],
   "source": [
    "from sklearn.preprocessing import LabelEncoder\n",
    "\n",
    "def label_encoder(df):\n",
    "    cat_col = df.select_dtypes(include=['object']).columns\n",
    "    le = LabelEncoder()\n",
    "    for col in cat_col:\n",
    "        df[col] = le.fit_transform(df[col])\n",
    "    return df\n",
    "\n",
    "df = label_encoder(df)\n",
    "df.head()"
   ]
  },
  {
   "cell_type": "code",
   "execution_count": 13,
   "metadata": {},
   "outputs": [],
   "source": [
    "import os\n",
    "if not os.path.exists('DB/cleaned'):\n",
    "    os.mkdir('DB/cleaned')\n",
    "df.to_csv('DB/cleaned/cars_cleaned.csv', index=False)"
   ]
  },
  {
   "cell_type": "markdown",
   "metadata": {},
   "source": [
    "### Outliers"
   ]
  },
  {
   "cell_type": "markdown",
   "metadata": {},
   "source": [
    "Partimos de los datos ya limpios de los pasos anteriores, así que cargaremos el nuevo csv:"
   ]
  },
  {
   "cell_type": "code",
   "execution_count": 63,
   "metadata": {},
   "outputs": [],
   "source": [
    "df = pd.read_csv('DB/cleaned/cars_cleaned.csv')\n",
    "show_boxplots(df)"
   ]
  },
  {
   "cell_type": "markdown",
   "metadata": {},
   "source": [
    "Para una mayor fiabilidad de los datos es importante eliminar valores atípicos que puedan influir de manera significativa en nuestra muestra de datos. Para ello, lo mejor es localizarlos y eliminarlos de nuestra base de datos."
   ]
  },
  {
   "cell_type": "markdown",
   "metadata": {},
   "source": [
    "Primero definimos los cuartiles del 25%, 75% y el rango intercuartilico:"
   ]
  },
  {
   "cell_type": "code",
   "execution_count": 64,
   "metadata": {},
   "outputs": [],
   "source": [
    "Q1 = df.quantile(0.25)\n",
    "Q3 = df.quantile(0.75)\n",
    "IQR = Q3 - Q1"
   ]
  },
  {
   "cell_type": "markdown",
   "metadata": {},
   "source": [
    "Ahora definiremos los límites con los que acotaremos la muestra, se suele emplear que no sean más pequeños de 3/4 que el valor del Q1, ni más mayores de 3/4 que el valor Q3."
   ]
  },
  {
   "cell_type": "code",
   "execution_count": 65,
   "metadata": {},
   "outputs": [],
   "source": [
    "lower_bound = Q1 - 5 * IQR\n",
    "upper_bound = Q3 + 5 * IQR"
   ]
  },
  {
   "cell_type": "markdown",
   "metadata": {},
   "source": [
    "Con esto ya podemos identificar y eliminar los outliers:"
   ]
  },
  {
   "cell_type": "code",
   "execution_count": 66,
   "metadata": {},
   "outputs": [],
   "source": [
    "# Locate\n",
    "outliers = df[((df < lower_bound) | (df > upper_bound)).any(axis=1)]"
   ]
  },
  {
   "cell_type": "code",
   "execution_count": 67,
   "metadata": {},
   "outputs": [
    {
     "data": {
      "text/plain": [
       "CODE               20908\n",
       "PRODUCTO           20908\n",
       "TIPO_CARROCERIA    20908\n",
       "COMBUSTIBLE        20908\n",
       "Potencia_          20908\n",
       "TRANS              20908\n",
       "FORMA_PAGO         20908\n",
       "ESTADO_CIVIL       20908\n",
       "GENERO             20908\n",
       "OcupaciOn          20908\n",
       "PROVINCIA          20908\n",
       "Campanna1          20908\n",
       "Campanna2          20908\n",
       "Campanna3          20908\n",
       "Zona _Renta        20908\n",
       "REV_Garantia       20908\n",
       "Averia_grave       20908\n",
       "QUEJA_CAC          20908\n",
       "EDAD_COCHE         20908\n",
       "COSTE_VENTA        20908\n",
       "km_anno            20908\n",
       "Mas_1_coche        20908\n",
       "Edad Cliente       20908\n",
       "dtype: int64"
      ]
     },
     "execution_count": 67,
     "metadata": {},
     "output_type": "execute_result"
    }
   ],
   "source": [
    "# Son demasiados\n",
    "outliers.count()"
   ]
  },
  {
   "cell_type": "code",
   "execution_count": 54,
   "metadata": {},
   "outputs": [],
   "source": [
    "# Drop\n",
    "df = df[~df.isin(outliers)].dropna(how='all')"
   ]
  },
  {
   "cell_type": "markdown",
   "metadata": {},
   "source": [
    "Veamos los resultado en los boxplots."
   ]
  },
  {
   "cell_type": "code",
   "execution_count": 19,
   "metadata": {},
   "outputs": [
    {
     "data": {
      "image/png": "[encoded data removed]",
      "text/plain": [
       "<Figure size 720x1728 with 23 Axes>"
      ]
     },
     "metadata": {
      "needs_background": "light"
     },
     "output_type": "display_data"
    }
   ],
   "source": [
    "num_col = df.columns\n",
    "\n",
    "# Definimos el número de columnas para mostrar por fila\n",
    "n_cols = 3\n",
    "n_rows = len(num_col) // n_cols + (len(num_col) % n_cols > 0)\n",
    "\n",
    "fig, axes = plt.subplots(n_rows, n_cols, figsize=(10, 3 * n_rows))\n",
    "axes = axes.flatten()  # Aplanar la matriz de ejes\n",
    "\n",
    "# Creamos los diagramas de caja (boxplots)\n",
    "for i, col in enumerate(num_col):\n",
    "    sns.boxplot(x=df[col], ax=axes[i])\n",
    "    axes[i].set_title(f'Boxplot de {col}')\n",
    "\n",
    "# Eliminamos los subplots vacios, por estetica\n",
    "for j in range(i+1, len(axes)):\n",
    "    fig.delaxes(axes[j])\n",
    "\n",
    "# Mostrar la figura con los subplots\n",
    "plt.tight_layout()\n",
    "plt.show()"
   ]
  },
  {
   "cell_type": "markdown",
   "metadata": {},
   "source": [
    "Vemos que sigue habiendo algún valor atípico, pero están dentro de los límites contemplados, por lo que su influencia no es muy significativa."
   ]
  },
  {
   "cell_type": "markdown",
   "metadata": {},
   "source": [
    "Ahora guardemos los datos en un nuevo csv que será el definitivo."
   ]
  },
  {
   "cell_type": "code",
   "execution_count": 22,
   "metadata": {},
   "outputs": [],
   "source": [
    "df.to_csv('DB/cleaned/cars_cleaned_outliers.csv', sep=',', index=False)"
   ]
  },
  {
   "cell_type": "markdown",
   "metadata": {},
   "source": [
    "# Desarrollo del Modelo de Propension y Evaluacion"
   ]
  },
  {
   "cell_type": "markdown",
   "metadata": {},
   "source": [
    "### Arbol de Decision"
   ]
  },
  {
   "cell_type": "markdown",
   "metadata": {},
   "source": [
    "Vamos a hacer uso de Arboles de Decision para hacer las predicciones del modelo:"
   ]
  },
  {
   "cell_type": "code",
   "execution_count": 28,
   "metadata": {},
   "outputs": [],
   "source": [
    "df = pd.read_csv('DB/cleaned/cars_cleaned.csv')"
   ]
  },
  {
   "cell_type": "code",
   "execution_count": 29,
   "metadata": {},
   "outputs": [],
   "source": [
    "from sklearn.tree import DecisionTreeClassifier\n",
    "from sklearn.metrics import accuracy_score, precision_score, recall_score, f1_score\n",
    "from sklearn.model_selection import train_test_split\n",
    "\n",
    "X = df.drop('Mas_1_coche', axis=1)\n",
    "y = df['Mas_1_coche']\n",
    "\n",
    "# Separamos los datos en train y test\n",
    "X_train, X_test, y_train, y_test = train_test_split(X, y, test_size=0.3, random_state=42)\n",
    "\n",
    "# Creamos el modelo\n",
    "dt_model = DecisionTreeClassifier()\n",
    "dt_model.fit(X_train, y_train)\n",
    "\n",
    "y_pred = dt_model.predict(X_test)"
   ]
  },
  {
   "cell_type": "markdown",
   "metadata": {},
   "source": [
    "Evaluamos el modelo inicial (sin mejoras de rendimiento) para hacernos una idea de la exactitud, precision, recall y f1 score del modelo:"
   ]
  },
  {
   "cell_type": "code",
   "execution_count": 30,
   "metadata": {},
   "outputs": [
    {
     "name": "stdout",
     "output_type": "stream",
     "text": [
      "Precisión (Accuracy): 0.85\n",
      "Precisión (Precision): 0.74\n",
      "Recall: 0.73\n",
      "F1 Score: 0.73\n"
     ]
    }
   ],
   "source": [
    "# Obtener métricas\n",
    "accuracy = accuracy_score(y_test, y_pred)\n",
    "precision = precision_score(y_test, y_pred)\n",
    "recall = recall_score(y_test, y_pred)\n",
    "f1 = f1_score(y_test, y_pred)\n",
    "\n",
    "# Mostrar las métricas\n",
    "print(f\"Precisión (Accuracy): {round(accuracy, 2)}\")\n",
    "print(f\"Precisión (Precision): {round(precision, 2)}\")\n",
    "print(f\"Recall: {round(recall, 2)}\")\n",
    "print(f\"F1 Score: {round(f1, 2)}\")"
   ]
  },
  {
   "cell_type": "markdown",
   "metadata": {},
   "source": [
    "### Matriz de Confusion"
   ]
  },
  {
   "cell_type": "code",
   "execution_count": 31,
   "metadata": {},
   "outputs": [
    {
     "data": {
      "image/png": "[encoded data removed]",
      "text/plain": [
       "<Figure size 576x360 with 2 Axes>"
      ]
     },
     "metadata": {
      "needs_background": "light"
     },
     "output_type": "display_data"
    }
   ],
   "source": [
    "from sklearn.metrics import confusion_matrix\n",
    "\n",
    "# Matriz de confusión\n",
    "conf_matrix = confusion_matrix(y_test, y_pred)\n",
    "\n",
    "plt.figure(figsize=(8, 5))\n",
    "sns.heatmap(conf_matrix, annot=True, fmt='d', cmap='Reds', xticklabels=['Predicted 0', 'Predicted 1'], yticklabels=['Actual 0', 'Actual 1'])\n",
    "plt.xlabel('Predicted')\n",
    "plt.ylabel('Actual')\n",
    "plt.title('Confusion Matrix')\n",
    "plt.show()"
   ]
  },
  {
   "cell_type": "markdown",
   "metadata": {},
   "source": [
    "### Curva ROC y AUC"
   ]
  },
  {
   "cell_type": "code",
   "execution_count": 32,
   "metadata": {},
   "outputs": [
    {
     "name": "stdout",
     "output_type": "stream",
     "text": [
      "AUC: 0.81\n"
     ]
    },
    {
     "data": {
      "image/png": "[encoded data removed]",
      "text/plain": [
       "<Figure size 432x288 with 1 Axes>"
      ]
     },
     "metadata": {
      "needs_background": "light"
     },
     "output_type": "display_data"
    }
   ],
   "source": [
    "from sklearn.metrics import roc_curve, roc_auc_score\n",
    "\n",
    "y_pred_proba = dt_model.predict_proba(X_test)[:, 1]\n",
    "fpr, tpr, thresholds = roc_curve(y_test, y_pred_proba)\n",
    "\n",
    "auc = roc_auc_score(y_test, y_pred_proba)\n",
    "print(f'AUC: {auc:.2f}')\n",
    "\n",
    "plt.plot(fpr, tpr)\n",
    "plt.plot([0, 1], [0, 1], 'k--')\n",
    "plt.xlabel('False Positive Rate')\n",
    "plt.ylabel('True Positive Rate')\n",
    "plt.legend([f'ROC Curve (AUC = {auc:.2f})'])\n",
    "plt.title('ROC Curve')\n",
    "plt.show()"
   ]
  }
 ],
 "metadata": {
  "kernelspec": {
   "display_name": "Python 3",
   "language": "python",
   "name": "python3"
  },
  "language_info": {
   "codemirror_mode": {
    "name": "ipython",
    "version": 3
   },
   "file_extension": ".py",
   "mimetype": "text/x-python",
   "name": "python",
   "nbconvert_exporter": "python",
   "pygments_lexer": "ipython3",
   "version": "3.9.7"
  }
 },
 "nbformat": 4,
 "nbformat_minor": 2
}
